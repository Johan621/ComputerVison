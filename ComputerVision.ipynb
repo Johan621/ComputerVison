{
 "cells": [
  {
   "cell_type": "code",
   "execution_count": null,
   "id": "4c166990-6358-448a-bdff-1d88d6d9c61e",
   "metadata": {},
   "outputs": [],
   "source": [
    "CREATING A RGB IMAGE WITH PIL(pillow in python)\n",
    "you can download pillow in cmd(command prompt) by using pip install pillow command.By using pillow library you can import the library and start manipulating images. "
   ]
  },
  {
   "cell_type": "code",
   "execution_count": 1,
   "id": "f1aff221-4473-4447-9c8b-6fdfd8fe7657",
   "metadata": {},
   "outputs": [],
   "source": [
    "from PIL import Image"
   ]
  },
  {
   "cell_type": "code",
   "execution_count": 3,
   "id": "a996eced-a6d9-41c5-adf8-58ca287449a6",
   "metadata": {},
   "outputs": [],
   "source": [
    "#Creating image with orange color(you can use your own color by changing the values in RGB)\n",
    "image = Image.new(\"RGB\", (100, 100), (255, 100,0))"
   ]
  },
  {
   "cell_type": "code",
   "execution_count": 11,
   "id": "2b3325f3-ed77-41c6-86ee-7c59037502e0",
   "metadata": {},
   "outputs": [
    {
     "name": "stdout",
     "output_type": "stream",
     "text": [
      "<class 'PIL.Image.Image'>\n",
      "(100, 100)\n",
      "RGB\n",
      "('R', 'G', 'B')\n"
     ]
    }
   ],
   "source": [
    "print(type(image))\n",
    "print(image.size)\n",
    "print(image.mode)\n",
    "print(image.getbands())"
   ]
  },
  {
   "cell_type": "code",
   "execution_count": 7,
   "id": "d51f5ce0-59c6-4480-b83c-3fd9522ffe6d",
   "metadata": {},
   "outputs": [],
   "source": [
    "image.show()"
   ]
  },
  {
   "cell_type": "raw",
   "id": "7b4c0189-80e6-4179-8e8e-64f84eb1a5f9",
   "metadata": {},
   "source": [
    "CREATING A B/W OR GRAY-SCALE IMAGE WITH PIL)"
   ]
  },
  {
   "cell_type": "code",
   "execution_count": 9,
   "id": "385b00f3-98bc-4cd3-9d4f-ebeb70f80ab8",
   "metadata": {},
   "outputs": [],
   "source": [
    "#creating an image with orange color\n",
    "image_bw = Image.new(\"L\", (100, 100), (100))"
   ]
  },
  {
   "cell_type": "code",
   "execution_count": 13,
   "id": "4c869412-8c13-48ef-90c5-ce22c772ed88",
   "metadata": {},
   "outputs": [
    {
     "name": "stdout",
     "output_type": "stream",
     "text": [
      "<class 'PIL.Image.Image'>\n",
      "L\n",
      "(100, 100)\n",
      "('L',)\n"
     ]
    }
   ],
   "source": [
    "print(type(image_bw))\n",
    "print(image_bw.mode)\n",
    "print(image_bw.size)\n",
    "print(image_bw.getbands())"
   ]
  },
  {
   "cell_type": "markdown",
   "id": "985c7076-fa7d-4da9-b483-8d273360098e",
   "metadata": {},
   "source": [
    "Now Let's create RGB image(same image) using Numpy and opencv guys!!!"
   ]
  },
  {
   "cell_type": "raw",
   "id": "091b593c-ec9f-42ba-83e4-f215084d868f",
   "metadata": {},
   "source": []
  },
  {
   "cell_type": "code",
   "execution_count": null,
   "id": "bac2755d-bac5-4fcc-a420-f402dd344b22",
   "metadata": {},
   "outputs": [],
   "source": [
    "CREATING RGB IMAGE USING NUMPY AND OPENCV"
   ]
  },
  {
   "cell_type": "code",
   "execution_count": 26,
   "id": "261f51b4-87eb-4635-a542-26a9095e48f1",
   "metadata": {},
   "outputs": [],
   "source": [
    "import numpy as np\n",
    "import cv2"
   ]
  },
  {
   "cell_type": "code",
   "execution_count": 32,
   "id": "922667f3-a27e-4a4f-8ffd-94b0ad656847",
   "metadata": {},
   "outputs": [],
   "source": [
    "#Create a blank image with black pixels\n",
    "image_opencv = np.zeros((500, 500, 3), np.uint8)"
   ]
  },
  {
   "cell_type": "raw",
   "id": "14ba626b-f667-4f02-ae42-dfbc0cb246b2",
   "metadata": {},
   "source": [
    "#Fill in the image with orange color (BGR values)\n",
    "image_opencv[:] = (0, 100, 255)"
   ]
  },
  {
   "cell_type": "code",
   "execution_count": 72,
   "id": "8d3430a4-bb24-4e80-9131-3d9a32f54e98",
   "metadata": {},
   "outputs": [
    {
     "name": "stdout",
     "output_type": "stream",
     "text": [
      "(500, 500, 3)\n",
      "500\n"
     ]
    }
   ],
   "source": [
    "print(image_opencv.shape)\n",
    "print(len(image_opencv))# NOTE: Here we can use len() method but in pillow library we cannot use it guys...!!!!"
   ]
  },
  {
   "cell_type": "code",
   "execution_count": 74,
   "id": "2cb98c5b-6b3c-4401-9978-348dd4332117",
   "metadata": {},
   "outputs": [],
   "source": [
    "#Display the image\n",
    "cv2.imshow(\"Orange Image\", image_opencv)\n",
    "cv2.waitKey(0)\n",
    "cv2.destroyAllWindows()"
   ]
  },
  {
   "cell_type": "markdown",
   "id": "4adcc60f-bb48-46ba-a797-17b84792419a",
   "metadata": {},
   "source": [
    "CREATING RGBA IMAGE WITH PIL"
   ]
  },
  {
   "cell_type": "code",
   "execution_count": 78,
   "id": "a83c53a2-4fa4-4597-884d-a926695e99ef",
   "metadata": {},
   "outputs": [
    {
     "name": "stdout",
     "output_type": "stream",
     "text": [
      "(100, 100)\n",
      "RGBA\n",
      "('R', 'G', 'B', 'A')\n"
     ]
    }
   ],
   "source": [
    "#Create image with orange color\n",
    "image = Image.new(\"RGB\", (100, 100), (255, 100, 0))\n",
    "image_rgba = image.convert(\"RGBA\")\n",
    "print(image_rgba.size)\n",
    "print(image_rgba.mode)\n",
    "print(image_rgba.getbands())\n",
    "image_rgba.show()\n"
   ]
  },
  {
   "cell_type": "markdown",
   "id": "e4a40988-bc22-4163-9123-5770619e15d7",
   "metadata": {},
   "source": [
    "CREATING THE SAME IMAGE USING OPENCV GUYS!!!!"
   ]
  },
  {
   "cell_type": "code",
   "execution_count": 82,
   "id": "e3e7077f-95d4-459d-9389-6f5f4f6ba6a2",
   "metadata": {},
   "outputs": [],
   "source": [
    "#Creating a  image with 4 channels (RGBA)\n",
    "bgra_opencv = np.zeros((500, 500, 4), dtype=np.uint8)"
   ]
  },
  {
   "cell_type": "code",
   "execution_count": 88,
   "id": "6de6960f-8704-4dc4-83f6-4c115e4d85e6",
   "metadata": {},
   "outputs": [],
   "source": [
    "#copy the original image data into the BGR chann"
   ]
  },
  {
   "cell_type": "code",
   "execution_count": null,
   "id": "8285bf3d-df6d-42f3-b24a-48e69d311b7f",
   "metadata": {},
   "outputs": [],
   "source": []
  }
 ],
 "metadata": {
  "kernelspec": {
   "display_name": "Python 3 (ipykernel)",
   "language": "python",
   "name": "python3"
  },
  "language_info": {
   "codemirror_mode": {
    "name": "ipython",
    "version": 3
   },
   "file_extension": ".py",
   "mimetype": "text/x-python",
   "name": "python",
   "nbconvert_exporter": "python",
   "pygments_lexer": "ipython3",
   "version": "3.12.4"
  }
 },
 "nbformat": 4,
 "nbformat_minor": 5
}
